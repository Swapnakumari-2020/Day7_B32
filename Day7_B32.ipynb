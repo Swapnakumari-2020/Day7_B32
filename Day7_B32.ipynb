{
 "cells": [
  {
   "cell_type": "code",
   "execution_count": 1,
   "metadata": {},
   "outputs": [
    {
     "name": "stdout",
     "output_type": "stream",
     "text": [
      "[0, 1, 2, 3, 4, 5]\n"
     ]
    }
   ],
   "source": [
    "numbers=[0,1,2,3,4,5]\n",
    "print(numbers)"
   ]
  },
  {
   "cell_type": "code",
   "execution_count": 2,
   "metadata": {},
   "outputs": [
    {
     "data": {
      "text/plain": [
       "list"
      ]
     },
     "execution_count": 2,
     "metadata": {},
     "output_type": "execute_result"
    }
   ],
   "source": [
    "type(numbers)"
   ]
  },
  {
   "cell_type": "code",
   "execution_count": 4,
   "metadata": {},
   "outputs": [
    {
     "name": "stdout",
     "output_type": "stream",
     "text": [
      "['vihaan', 'anish', 'manya', 'pinky', 'honey', 'sasha', 'kaashvi']\n"
     ]
    }
   ],
   "source": [
    "kids=['vihaan','anish','manya','pinky','honey','sasha','kaashvi']\n",
    "print(kids)\n"
   ]
  },
  {
   "cell_type": "code",
   "execution_count": 5,
   "metadata": {},
   "outputs": [
    {
     "data": {
      "text/plain": [
       "list"
      ]
     },
     "execution_count": 5,
     "metadata": {},
     "output_type": "execute_result"
    }
   ],
   "source": [
    "type(kids)"
   ]
  },
  {
   "cell_type": "code",
   "execution_count": 6,
   "metadata": {},
   "outputs": [
    {
     "name": "stdout",
     "output_type": "stream",
     "text": [
      "cute kids,Vihaan\n"
     ]
    }
   ],
   "source": [
    "x=(f'cute kids,{kids[0].title()}')\n",
    "print(x)"
   ]
  },
  {
   "cell_type": "code",
   "execution_count": 7,
   "metadata": {},
   "outputs": [
    {
     "name": "stdout",
     "output_type": "stream",
     "text": [
      "['anish', 'honey', 'kaashvi', 'manya', 'pinky', 'sasha', 'vihaan']\n"
     ]
    }
   ],
   "source": [
    "print(sorted(kids))"
   ]
  },
  {
   "cell_type": "code",
   "execution_count": 8,
   "metadata": {},
   "outputs": [
    {
     "name": "stdout",
     "output_type": "stream",
     "text": [
      "['vihaan', 'anish', 'manya', 'pinky', 'honey', 'sasha', 'kaashvi']\n"
     ]
    }
   ],
   "source": [
    "print(kids)"
   ]
  },
  {
   "cell_type": "code",
   "execution_count": 9,
   "metadata": {},
   "outputs": [
    {
     "name": "stdout",
     "output_type": "stream",
     "text": [
      "['anish', 'honey', 'kaashvi', 'manya', 'pinky', 'sasha', 'vihaan']\n"
     ]
    }
   ],
   "source": [
    "kids.sort()\n",
    "print(kids)"
   ]
  },
  {
   "cell_type": "code",
   "execution_count": 10,
   "metadata": {},
   "outputs": [
    {
     "name": "stdout",
     "output_type": "stream",
     "text": [
      "['anish', 'honey', 'kaashvi', 'manya', 'pinky', 'sasha', 'vihaan']\n"
     ]
    }
   ],
   "source": [
    "print(kids)"
   ]
  },
  {
   "cell_type": "code",
   "execution_count": 11,
   "metadata": {},
   "outputs": [
    {
     "name": "stdout",
     "output_type": "stream",
     "text": [
      "['vihaan', 'anish', 'manya', 'pinky', 'honey', 'maanya', 'kaashvi']\n"
     ]
    }
   ],
   "source": [
    "kids=['vihaan','anish','manya','pinky','honey','maanya','kaashvi']\n",
    "print(kids)"
   ]
  },
  {
   "cell_type": "code",
   "execution_count": 12,
   "metadata": {},
   "outputs": [
    {
     "name": "stdout",
     "output_type": "stream",
     "text": [
      "['kaashvi', 'maanya', 'honey', 'pinky', 'manya', 'anish', 'vihaan']\n"
     ]
    }
   ],
   "source": [
    "kids.reverse()\n",
    "print(kids)"
   ]
  },
  {
   "cell_type": "code",
   "execution_count": 13,
   "metadata": {},
   "outputs": [
    {
     "data": {
      "text/plain": [
       "7"
      ]
     },
     "execution_count": 13,
     "metadata": {},
     "output_type": "execute_result"
    }
   ],
   "source": [
    "len(kids)"
   ]
  },
  {
   "cell_type": "code",
   "execution_count": 14,
   "metadata": {},
   "outputs": [
    {
     "name": "stdout",
     "output_type": "stream",
     "text": [
      "['kaashvi', 'maanya', 'honey', 'pinky', 'manya', 'anish', 'vihaan', 'pooja']\n"
     ]
    }
   ],
   "source": [
    "kids.append('pooja')\n",
    "print(kids)"
   ]
  },
  {
   "cell_type": "code",
   "execution_count": 15,
   "metadata": {},
   "outputs": [
    {
     "name": "stdout",
     "output_type": "stream",
     "text": [
      "['anish', 'honey', 'kaashvi', 'maanya', 'manya', 'pinky', 'pooja', 'vihaan']\n"
     ]
    }
   ],
   "source": [
    "kids.sort()\n",
    "print(kids)"
   ]
  },
  {
   "cell_type": "code",
   "execution_count": 16,
   "metadata": {},
   "outputs": [
    {
     "name": "stdout",
     "output_type": "stream",
     "text": [
      "['anish', 'honey', 'kaashvi', 'siri', 'maanya', 'manya', 'pinky', 'pooja', 'vihaan']\n"
     ]
    }
   ],
   "source": [
    "kids.insert(3,'siri')\n",
    "print(kids)"
   ]
  },
  {
   "cell_type": "code",
   "execution_count": 18,
   "metadata": {},
   "outputs": [
    {
     "name": "stdout",
     "output_type": "stream",
     "text": [
      "['anish', 'honey']\n"
     ]
    }
   ],
   "source": [
    "print(kids[0:2])"
   ]
  },
  {
   "cell_type": "code",
   "execution_count": 19,
   "metadata": {},
   "outputs": [
    {
     "name": "stdout",
     "output_type": "stream",
     "text": [
      "['kaashvi', 'siri']\n"
     ]
    }
   ],
   "source": [
    "print(kids[2:4])"
   ]
  },
  {
   "cell_type": "code",
   "execution_count": 20,
   "metadata": {},
   "outputs": [
    {
     "name": "stdout",
     "output_type": "stream",
     "text": [
      "['maanya', 'manya']\n"
     ]
    }
   ],
   "source": [
    "print(kids[4:6])"
   ]
  },
  {
   "cell_type": "code",
   "execution_count": 21,
   "metadata": {},
   "outputs": [
    {
     "name": "stdout",
     "output_type": "stream",
     "text": [
      "['pinky', 'pooja']\n"
     ]
    }
   ],
   "source": [
    "print(kids[6:8])"
   ]
  },
  {
   "cell_type": "code",
   "execution_count": 23,
   "metadata": {},
   "outputs": [
    {
     "name": "stdout",
     "output_type": "stream",
     "text": [
      "['anish', 'siri', 'pinky']\n"
     ]
    }
   ],
   "source": [
    "print(kids[0:9:3])"
   ]
  },
  {
   "cell_type": "code",
   "execution_count": 24,
   "metadata": {},
   "outputs": [
    {
     "name": "stdout",
     "output_type": "stream",
     "text": [
      "['honey', 'manya']\n"
     ]
    }
   ],
   "source": [
    "print(kids[1:9:4])"
   ]
  },
  {
   "cell_type": "code",
   "execution_count": 25,
   "metadata": {},
   "outputs": [
    {
     "name": "stdout",
     "output_type": "stream",
     "text": [
      "['anish', 'maanya', 'vihaan']\n"
     ]
    }
   ],
   "source": [
    "print(kids[0:9:4])"
   ]
  },
  {
   "cell_type": "code",
   "execution_count": null,
   "metadata": {},
   "outputs": [],
   "source": []
  }
 ],
 "metadata": {
  "kernelspec": {
   "display_name": "Python 3",
   "language": "python",
   "name": "python3"
  },
  "language_info": {
   "codemirror_mode": {
    "name": "ipython",
    "version": 3
   },
   "file_extension": ".py",
   "mimetype": "text/x-python",
   "name": "python",
   "nbconvert_exporter": "python",
   "pygments_lexer": "ipython3",
   "version": "3.8.5"
  }
 },
 "nbformat": 4,
 "nbformat_minor": 4
}
